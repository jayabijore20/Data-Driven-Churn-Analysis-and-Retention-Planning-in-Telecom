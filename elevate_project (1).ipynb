{
  "nbformat": 4,
  "nbformat_minor": 0,
  "metadata": {
    "colab": {
      "provenance": []
    },
    "kernelspec": {
      "name": "python3",
      "display_name": "Python 3"
    },
    "language_info": {
      "name": "python"
    }
  },
  "cells": [
    {
      "cell_type": "code",
      "execution_count": null,
      "metadata": {
        "id": "Z8NvuwEhpDRf"
      },
      "outputs": [],
      "source": [
        "# import libraries\n",
        "import pandas as pd\n",
        "import numpy as np\n",
        "import matplotlib.pyplot as plt\n",
        "import seaborn as sns\n",
        "\n",
        "pd.set_option(\"display.max_columns\", 200)\n",
        "sns.set(style=\"whitegrid\")\n",
        "plt.rcParams[\"figure.figsize\"] = (10, 5)\n",
        "\n"
      ]
    },
    {
      "cell_type": "code",
      "source": [
        "# load dataset\n",
        "df = pd.read_csv(\"/content/Telco_Customer_Churn_raw.csv\")"
      ],
      "metadata": {
        "id": "gh_RES9apR1-"
      },
      "execution_count": null,
      "outputs": []
    },
    {
      "cell_type": "code",
      "source": [
        "# cheking dataset\n",
        "print(df.shape)\n",
        "print(df.head())"
      ],
      "metadata": {
        "colab": {
          "base_uri": "https://localhost:8080/"
        },
        "id": "UeEULtWCpaHr",
        "outputId": "38d18b9d-f612-4f0a-d194-727d4b9a334f"
      },
      "execution_count": null,
      "outputs": [
        {
          "output_type": "stream",
          "name": "stdout",
          "text": [
            "(7043, 49)\n",
            "   gender  seniorcitizen  partner  dependents  tenure  phoneservice  \\\n",
            "0       1              0        1           0       1             0   \n",
            "1       0              0        0           0      34             1   \n",
            "2       0              0        0           0       2             1   \n",
            "3       0              0        0           0      45             0   \n",
            "4       1              0        0           0       2             1   \n",
            "\n",
            "   multiplelines  onlinesecurity  onlinebackup  deviceprotection  techsupport  \\\n",
            "0              0               0             1                 0            0   \n",
            "1              0               1             0                 1            0   \n",
            "2              0               1             1                 0            0   \n",
            "3              0               1             0                 1            1   \n",
            "4              0               0             0                 0            0   \n",
            "\n",
            "   streamingtv  streamingmovies  paperlessbilling  monthlycharges  \\\n",
            "0            0                0                 1           29.85   \n",
            "1            0                0                 0           56.95   \n",
            "2            0                0                 1           53.85   \n",
            "3            0                0                 0           42.30   \n",
            "4            0                0                 1           70.70   \n",
            "\n",
            "   totalcharges  churn  internetservice_Fiber optic  internetservice_No  \\\n",
            "0         29.85      0                            0                   0   \n",
            "1       1889.50      0                            0                   0   \n",
            "2        108.15      1                            0                   0   \n",
            "3       1840.75      0                            0                   0   \n",
            "4        151.65      1                            1                   0   \n",
            "\n",
            "   contract_One year  contract_Two year  \\\n",
            "0                  0                  0   \n",
            "1                  1                  0   \n",
            "2                  0                  0   \n",
            "3                  1                  0   \n",
            "4                  0                  0   \n",
            "\n",
            "   paymentmethod_Credit card (automatic)  paymentmethod_Electronic check  \\\n",
            "0                                      0                               1   \n",
            "1                                      0                               0   \n",
            "2                                      0                               0   \n",
            "3                                      0                               0   \n",
            "4                                      0                               1   \n",
            "\n",
            "   paymentmethod_Mailed check  tenure_years  has_internet  num_addon_services  \\\n",
            "0                           0           0.1             1                   1   \n",
            "1                           1           2.8             1                   2   \n",
            "2                           1           0.2             1                   2   \n",
            "3                           0           3.8             1                   3   \n",
            "4                           0           0.2             1                   0   \n",
            "\n",
            "   charge_tenure_interaction  high_charge_flag  contract_term  auto_pay  \\\n",
            "0                      29.85                 0              1         0   \n",
            "1                    1936.30                 0             12         0   \n",
            "2                     107.70                 0              1         0   \n",
            "3                    1903.50                 0             12         0   \n",
            "4                     141.40                 0              1         0   \n",
            "\n",
            "   echeck_flag  fiber_flag  clv_simple  monthlycharges_z  totalcharges_z  \\\n",
            "0            1           0       29.85            -1.160          -0.994   \n",
            "1            0           0     1936.30            -0.260          -0.173   \n",
            "2            0           0      107.70            -0.363          -0.960   \n",
            "3            0           0     1903.50            -0.746          -0.195   \n",
            "4            1           1      141.40             0.197          -0.940   \n",
            "\n",
            "   charge_tenure_interaction_z  contract_type_One Year  \\\n",
            "0                       -0.993                   False   \n",
            "1                       -0.152                    True   \n",
            "2                       -0.959                   False   \n",
            "3                       -0.166                    True   \n",
            "4                       -0.944                   False   \n",
            "\n",
            "   contract_type_Two Year  internet_type_Fiber optic  \\\n",
            "0                   False                      False   \n",
            "1                   False                      False   \n",
            "2                   False                      False   \n",
            "3                   False                      False   \n",
            "4                   False                       True   \n",
            "\n",
            "   internet_type_No Internet  payment_method_Electronic Check  \\\n",
            "0                      False                             True   \n",
            "1                      False                            False   \n",
            "2                      False                            False   \n",
            "3                      False                            False   \n",
            "4                      False                             True   \n",
            "\n",
            "   payment_method_Mailed Check  payment_method_Other/Bank Auto  \\\n",
            "0                        False                           False   \n",
            "1                         True                           False   \n",
            "2                         True                           False   \n",
            "3                        False                            True   \n",
            "4                        False                           False   \n",
            "\n",
            "   tenure_group_7-12  tenure_group_13-24  tenure_group_25-48  \\\n",
            "0              False               False               False   \n",
            "1              False               False                True   \n",
            "2              False               False               False   \n",
            "3              False               False                True   \n",
            "4              False               False               False   \n",
            "\n",
            "   tenure_group_49+  customerID  \n",
            "0             False  7590-VHVEG  \n",
            "1             False  5575-GNVDE  \n",
            "2             False  3668-QPYBK  \n",
            "3             False  7795-CFOCW  \n",
            "4             False  9237-HQITU  \n"
          ]
        }
      ]
    },
    {
      "cell_type": "code",
      "source": [
        "print(df.info())\n",
        "print(df.isnull().sum())"
      ],
      "metadata": {
        "colab": {
          "base_uri": "https://localhost:8080/"
        },
        "id": "J5LZn71XpdDd",
        "outputId": "76f7fe5e-efdd-4e84-cc3a-a9e610f73e1b"
      },
      "execution_count": null,
      "outputs": [
        {
          "output_type": "stream",
          "name": "stdout",
          "text": [
            "<class 'pandas.core.frame.DataFrame'>\n",
            "RangeIndex: 7043 entries, 0 to 7042\n",
            "Data columns (total 49 columns):\n",
            " #   Column                                 Non-Null Count  Dtype  \n",
            "---  ------                                 --------------  -----  \n",
            " 0   gender                                 7043 non-null   int64  \n",
            " 1   seniorcitizen                          7043 non-null   int64  \n",
            " 2   partner                                7043 non-null   int64  \n",
            " 3   dependents                             7043 non-null   int64  \n",
            " 4   tenure                                 7043 non-null   int64  \n",
            " 5   phoneservice                           7043 non-null   int64  \n",
            " 6   multiplelines                          7043 non-null   int64  \n",
            " 7   onlinesecurity                         7043 non-null   int64  \n",
            " 8   onlinebackup                           7043 non-null   int64  \n",
            " 9   deviceprotection                       7043 non-null   int64  \n",
            " 10  techsupport                            7043 non-null   int64  \n",
            " 11  streamingtv                            7043 non-null   int64  \n",
            " 12  streamingmovies                        7043 non-null   int64  \n",
            " 13  paperlessbilling                       7043 non-null   int64  \n",
            " 14  monthlycharges                         7043 non-null   float64\n",
            " 15  totalcharges                           7043 non-null   float64\n",
            " 16  churn                                  7043 non-null   int64  \n",
            " 17  internetservice_Fiber optic            7043 non-null   int64  \n",
            " 18  internetservice_No                     7043 non-null   int64  \n",
            " 19  contract_One year                      7043 non-null   int64  \n",
            " 20  contract_Two year                      7043 non-null   int64  \n",
            " 21  paymentmethod_Credit card (automatic)  7043 non-null   int64  \n",
            " 22  paymentmethod_Electronic check         7043 non-null   int64  \n",
            " 23  paymentmethod_Mailed check             7043 non-null   int64  \n",
            " 24  tenure_years                           7043 non-null   float64\n",
            " 25  has_internet                           7043 non-null   int64  \n",
            " 26  num_addon_services                     7043 non-null   int64  \n",
            " 27  charge_tenure_interaction              7043 non-null   float64\n",
            " 28  high_charge_flag                       7043 non-null   int64  \n",
            " 29  contract_term                          7043 non-null   int64  \n",
            " 30  auto_pay                               7043 non-null   int64  \n",
            " 31  echeck_flag                            7043 non-null   int64  \n",
            " 32  fiber_flag                             7043 non-null   int64  \n",
            " 33  clv_simple                             7043 non-null   float64\n",
            " 34  monthlycharges_z                       7043 non-null   float64\n",
            " 35  totalcharges_z                         7043 non-null   float64\n",
            " 36  charge_tenure_interaction_z            7043 non-null   float64\n",
            " 37  contract_type_One Year                 7043 non-null   bool   \n",
            " 38  contract_type_Two Year                 7043 non-null   bool   \n",
            " 39  internet_type_Fiber optic              7043 non-null   bool   \n",
            " 40  internet_type_No Internet              7043 non-null   bool   \n",
            " 41  payment_method_Electronic Check        7043 non-null   bool   \n",
            " 42  payment_method_Mailed Check            7043 non-null   bool   \n",
            " 43  payment_method_Other/Bank Auto         7043 non-null   bool   \n",
            " 44  tenure_group_7-12                      7043 non-null   bool   \n",
            " 45  tenure_group_13-24                     7043 non-null   bool   \n",
            " 46  tenure_group_25-48                     7043 non-null   bool   \n",
            " 47  tenure_group_49+                       7043 non-null   bool   \n",
            " 48  customerID                             7043 non-null   object \n",
            "dtypes: bool(11), float64(8), int64(29), object(1)\n",
            "memory usage: 2.1+ MB\n",
            "None\n",
            "gender                                   0\n",
            "seniorcitizen                            0\n",
            "partner                                  0\n",
            "dependents                               0\n",
            "tenure                                   0\n",
            "phoneservice                             0\n",
            "multiplelines                            0\n",
            "onlinesecurity                           0\n",
            "onlinebackup                             0\n",
            "deviceprotection                         0\n",
            "techsupport                              0\n",
            "streamingtv                              0\n",
            "streamingmovies                          0\n",
            "paperlessbilling                         0\n",
            "monthlycharges                           0\n",
            "totalcharges                             0\n",
            "churn                                    0\n",
            "internetservice_Fiber optic              0\n",
            "internetservice_No                       0\n",
            "contract_One year                        0\n",
            "contract_Two year                        0\n",
            "paymentmethod_Credit card (automatic)    0\n",
            "paymentmethod_Electronic check           0\n",
            "paymentmethod_Mailed check               0\n",
            "tenure_years                             0\n",
            "has_internet                             0\n",
            "num_addon_services                       0\n",
            "charge_tenure_interaction                0\n",
            "high_charge_flag                         0\n",
            "contract_term                            0\n",
            "auto_pay                                 0\n",
            "echeck_flag                              0\n",
            "fiber_flag                               0\n",
            "clv_simple                               0\n",
            "monthlycharges_z                         0\n",
            "totalcharges_z                           0\n",
            "charge_tenure_interaction_z              0\n",
            "contract_type_One Year                   0\n",
            "contract_type_Two Year                   0\n",
            "internet_type_Fiber optic                0\n",
            "internet_type_No Internet                0\n",
            "payment_method_Electronic Check          0\n",
            "payment_method_Mailed Check              0\n",
            "payment_method_Other/Bank Auto           0\n",
            "tenure_group_7-12                        0\n",
            "tenure_group_13-24                       0\n",
            "tenure_group_25-48                       0\n",
            "tenure_group_49+                         0\n",
            "customerID                               0\n",
            "dtype: int64\n"
          ]
        }
      ]
    },
    {
      "cell_type": "code",
      "source": [
        "# binary encoding(yes/no = 1/0)\n",
        "yes_no_columns = [\"partner\", \"dependents\", \"paperlessbilling\", \"phoneservice\", \"churn\"]\n",
        "\n",
        "for c in yes_no_columns:\n",
        "    df[c] = df[c].astype(str).str.strip().str.lower()\n",
        "    df[c] = df[c].replace({\"yes\": 1, \"no\": 0})\n",
        "\n",
        "\n"
      ],
      "metadata": {
        "id": "FKQchKZ0qLhl"
      },
      "execution_count": null,
      "outputs": []
    },
    {
      "cell_type": "code",
      "source": [
        "df[yes_no_columns].dtypes\n",
        "\n"
      ],
      "metadata": {
        "colab": {
          "base_uri": "https://localhost:8080/",
          "height": 241
        },
        "id": "Dwe8yM10r1Iz",
        "outputId": "3d71981a-0bed-4f87-edf0-2bbbed013ef8"
      },
      "execution_count": null,
      "outputs": [
        {
          "output_type": "execute_result",
          "data": {
            "text/plain": [
              "partner             object\n",
              "dependents          object\n",
              "paperlessbilling    object\n",
              "phoneservice        object\n",
              "churn               object\n",
              "dtype: object"
            ],
            "text/html": [
              "<div>\n",
              "<style scoped>\n",
              "    .dataframe tbody tr th:only-of-type {\n",
              "        vertical-align: middle;\n",
              "    }\n",
              "\n",
              "    .dataframe tbody tr th {\n",
              "        vertical-align: top;\n",
              "    }\n",
              "\n",
              "    .dataframe thead th {\n",
              "        text-align: right;\n",
              "    }\n",
              "</style>\n",
              "<table border=\"1\" class=\"dataframe\">\n",
              "  <thead>\n",
              "    <tr style=\"text-align: right;\">\n",
              "      <th></th>\n",
              "      <th>0</th>\n",
              "    </tr>\n",
              "  </thead>\n",
              "  <tbody>\n",
              "    <tr>\n",
              "      <th>partner</th>\n",
              "      <td>object</td>\n",
              "    </tr>\n",
              "    <tr>\n",
              "      <th>dependents</th>\n",
              "      <td>object</td>\n",
              "    </tr>\n",
              "    <tr>\n",
              "      <th>paperlessbilling</th>\n",
              "      <td>object</td>\n",
              "    </tr>\n",
              "    <tr>\n",
              "      <th>phoneservice</th>\n",
              "      <td>object</td>\n",
              "    </tr>\n",
              "    <tr>\n",
              "      <th>churn</th>\n",
              "      <td>object</td>\n",
              "    </tr>\n",
              "  </tbody>\n",
              "</table>\n",
              "</div><br><label><b>dtype:</b> object</label>"
            ]
          },
          "metadata": {},
          "execution_count": 8
        }
      ]
    },
    {
      "cell_type": "code",
      "source": [
        "print(df[yes_no_columns].head(10))\n",
        "print(df[yes_no_columns].isnull().sum())\n"
      ],
      "metadata": {
        "colab": {
          "base_uri": "https://localhost:8080/"
        },
        "id": "aOKV5Yx1xDcF",
        "outputId": "d72527df-5ecf-4628-aff5-62bf66ed7fb4"
      },
      "execution_count": null,
      "outputs": [
        {
          "output_type": "stream",
          "name": "stdout",
          "text": [
            "  partner dependents paperlessbilling phoneservice churn\n",
            "0       1          0                1            0     0\n",
            "1       0          0                0            1     0\n",
            "2       0          0                1            1     1\n",
            "3       0          0                0            0     0\n",
            "4       0          0                1            1     1\n",
            "5       0          0                1            1     1\n",
            "6       0          1                1            1     0\n",
            "7       0          0                0            0     0\n",
            "8       1          0                1            1     1\n",
            "9       0          1                0            1     0\n",
            "partner             0\n",
            "dependents          0\n",
            "paperlessbilling    0\n",
            "phoneservice        0\n",
            "churn               0\n",
            "dtype: int64\n"
          ]
        }
      ]
    },
    {
      "cell_type": "markdown",
      "source": [],
      "metadata": {
        "id": "RBtZbtGJ5Iry"
      }
    },
    {
      "cell_type": "code",
      "source": [
        "df['gender'] = pd.to_numeric(df['gender'].replace({\"Female\": 1, \"Male\": 0}))\n",
        "df['gender'] = df['gender'].astype(int)"
      ],
      "metadata": {
        "id": "5c9WvXte5GNb"
      },
      "execution_count": null,
      "outputs": []
    },
    {
      "cell_type": "code",
      "source": [
        "print(df['gender'].head(10))\n",
        "print(df['gender'].isnull().sum())"
      ],
      "metadata": {
        "colab": {
          "base_uri": "https://localhost:8080/"
        },
        "id": "RlpwT6yy6TmY",
        "outputId": "706b088f-0881-44e3-f639-22eae5435af2"
      },
      "execution_count": null,
      "outputs": [
        {
          "output_type": "stream",
          "name": "stdout",
          "text": [
            "0    1\n",
            "1    0\n",
            "2    0\n",
            "3    0\n",
            "4    1\n",
            "5    1\n",
            "6    0\n",
            "7    1\n",
            "8    1\n",
            "9    0\n",
            "Name: gender, dtype: int64\n",
            "0\n"
          ]
        }
      ]
    },
    {
      "cell_type": "code",
      "source": [
        "df['seniorcitizen'] = df['seniorcitizen'].replace({1: 1, 0: 0, \"yes\":1,\"no\":0})\n",
        "df['seniorcitizen'] = df['seniorcitizen'].astype(int)"
      ],
      "metadata": {
        "id": "lkf6jpNO0sZ0"
      },
      "execution_count": null,
      "outputs": []
    },
    {
      "cell_type": "code",
      "source": [
        "print(df['seniorcitizen'].head(10))\n",
        "print(df['seniorcitizen'].isnull().sum())"
      ],
      "metadata": {
        "colab": {
          "base_uri": "https://localhost:8080/"
        },
        "id": "FVOw84NXtDNU",
        "outputId": "a7c6d91f-2c14-4877-84a9-e45bdbff6250"
      },
      "execution_count": null,
      "outputs": [
        {
          "output_type": "stream",
          "name": "stdout",
          "text": [
            "0    0\n",
            "1    0\n",
            "2    0\n",
            "3    0\n",
            "4    0\n",
            "5    0\n",
            "6    0\n",
            "7    0\n",
            "8    0\n",
            "9    0\n",
            "Name: seniorcitizen, dtype: int64\n",
            "0\n"
          ]
        }
      ]
    },
    {
      "cell_type": "code",
      "source": [
        " # Convert TotalCharges to numeric (fix spaces and errors)\n",
        "df[\"totalcharges\"] = pd.to_numeric(df[\"totalcharges\"].replace(\" \", np.nan), errors=\"coerce\")\n",
        "# 4. Now fill missing values with median\n",
        "df.fillna({\"totalcharges\": df[\"totalcharges\"].median()}, inplace=True)\n",
        "\n"
      ],
      "metadata": {
        "id": "AXyb8o7kVsXK"
      },
      "execution_count": null,
      "outputs": []
    },
    {
      "cell_type": "code",
      "source": [
        "print(\"Missing values:\", df[\"totalcharges\"].isna().sum())\n",
        "print(\"Data type:\", df[\"totalcharges\"].dtype)\n"
      ],
      "metadata": {
        "colab": {
          "base_uri": "https://localhost:8080/"
        },
        "id": "Lkqro4u5V8rl",
        "outputId": "92df1d07-d4f2-46b3-cd41-f277d35e1e9f"
      },
      "execution_count": null,
      "outputs": [
        {
          "output_type": "stream",
          "name": "stdout",
          "text": [
            "Missing values: 0\n",
            "Data type: float64\n"
          ]
        }
      ]
    },
    {
      "cell_type": "code",
      "source": [
        "\n",
        "df[\"monthlycharges\"] = pd.to_numeric(df[\"monthlycharges\"], errors=\"coerce\")\n",
        "\n",
        "df[\"monthlycharges\"] = df[\"monthlycharges\"].fillna(df[\"monthlycharges\"].median())\n",
        "\n",
        "\n",
        "\n"
      ],
      "metadata": {
        "id": "PlJcDFBo6aeA"
      },
      "execution_count": null,
      "outputs": []
    },
    {
      "cell_type": "code",
      "source": [
        "print(\"Missing values:\", df[\"monthlycharges\"].isna().sum())\n",
        "print(\"Data type:\", df[\"monthlycharges\"].dtype)\n"
      ],
      "metadata": {
        "colab": {
          "base_uri": "https://localhost:8080/"
        },
        "id": "dDxWzKvA8HNe",
        "outputId": "87a20811-331b-449a-d2b6-591ecb68d33c"
      },
      "execution_count": null,
      "outputs": [
        {
          "output_type": "stream",
          "name": "stdout",
          "text": [
            "Missing values: 0\n",
            "Data type: float64\n"
          ]
        }
      ]
    },
    {
      "cell_type": "code",
      "source": [
        "gender                                   0\n",
        "seniorcitizen                            0\n",
        "partner                                  0\n",
        "dependents                               0\n",
        "tenure                                   0\n",
        "phoneservice                             0\n",
        "multiplelines                            0\n",
        "onlinesecurity                           0\n",
        "onlinebackup                             0\n",
        "deviceprotection                         0\n",
        "techsupport                              0\n",
        "streamingtv                              0\n",
        "streamingmovies                          0\n",
        "paperlessbilling                         0\n",
        "monthlycharges                           0\n",
        "totalcharges                             0\n",
        "churn                                    0\n",
        "internetservice_Fiber optic              0\n",
        "internetservice_No                       0\n",
        "contract_One year                        0\n",
        "contract_Two year                        0\n",
        "paymentmethod_Credit card (automatic)    0\n",
        "paymentmethod_Electronic check           0\n",
        "paymentmethod_Mailed check               0\n",
        "tenure_years                             0\n",
        "has_internet                             0\n",
        "num_addon_services                       0\n",
        "charge_tenure_interaction                0\n",
        "high_charge_flag                         0\n",
        "contract_term                            0\n",
        "auto_pay                                 0\n",
        "echeck_flag                              0\n",
        "fiber_flag                               0\n",
        "clv_simple                               0\n",
        "monthlycharges_z                         0\n",
        "totalcharges_z                           0\n",
        "charge_tenure_interaction_z              0\n",
        "contract_type_One Year                   0\n",
        "contract_type_Two Year                   0\n",
        "internet_type_Fiber optic                0\n",
        "internet_type_No Internet                0\n",
        "payment_method_Electronic Check          0\n",
        "payment_method_Mailed Check              0\n",
        "payment_method_Other/Bank Auto           0\n",
        "tenure_group_7-12                        0\n",
        "tenure_group_13-24                       0\n",
        "tenure_group_25-48                       0\n",
        "tenure_group_49+                         0\n",
        "customerID                               0\n",
        "dtype: int64"
      ],
      "metadata": {
        "id": "s2TCGMrLU7YA"
      },
      "execution_count": null,
      "outputs": []
    },
    {
      "cell_type": "code",
      "source": [
        "yes_no_cols = [\n",
        "    \"multiplelines\", \"onlinesecurity\", \"onlinebackup\",\n",
        "    \"deviceprotection\", \"techsupport\", \"streamingtv\", \"streamingmovies\"\n",
        "]\n",
        "\n",
        "# Convert Yes/No → 1/0 only if column is string\n",
        "for col in yes_no_cols:\n",
        "    if df[col].dtype == \"object\":\n",
        "        df[col] = df[col].str.strip().str.lower().map({\"yes\": 1, \"no\": 0})\n",
        "\n",
        "# Fill NaN with median of each column\n",
        "df.fillna({col: df[col].median() for col in yes_no_cols}, inplace=True)\n"
      ],
      "metadata": {
        "id": "bdeatIvdu78n"
      },
      "execution_count": null,
      "outputs": []
    },
    {
      "cell_type": "code",
      "source": [
        "print(df[yes_no_cols].head(10))\n",
        "print(\"Missing values:\", df[yes_no_cols].isna().sum())"
      ],
      "metadata": {
        "colab": {
          "base_uri": "https://localhost:8080/"
        },
        "id": "FBlrk8F32K-f",
        "outputId": "ae10de45-44e2-4343-a0e6-4699324c87f4"
      },
      "execution_count": null,
      "outputs": [
        {
          "output_type": "stream",
          "name": "stdout",
          "text": [
            "   multiplelines  onlinesecurity  onlinebackup  deviceprotection  techsupport  \\\n",
            "0              0               0             1                 0            0   \n",
            "1              0               1             0                 1            0   \n",
            "2              0               1             1                 0            0   \n",
            "3              0               1             0                 1            1   \n",
            "4              0               0             0                 0            0   \n",
            "5              1               0             0                 1            0   \n",
            "6              1               0             1                 0            0   \n",
            "7              0               1             0                 0            0   \n",
            "8              1               0             0                 1            1   \n",
            "9              0               1             1                 0            0   \n",
            "\n",
            "   streamingtv  streamingmovies  \n",
            "0            0                0  \n",
            "1            0                0  \n",
            "2            0                0  \n",
            "3            0                0  \n",
            "4            0                0  \n",
            "5            1                1  \n",
            "6            1                0  \n",
            "7            0                0  \n",
            "8            1                1  \n",
            "9            0                0  \n",
            "Missing values: multiplelines       0\n",
            "onlinesecurity      0\n",
            "onlinebackup        0\n",
            "deviceprotection    0\n",
            "techsupport         0\n",
            "streamingtv         0\n",
            "streamingmovies     0\n",
            "dtype: int64\n"
          ]
        }
      ]
    },
    {
      "cell_type": "code",
      "source": [
        "#   Standardize service columns (\"No internet service\" -> \"No\")\n",
        "cols_to_fix = [\n",
        "    \"onlinesecurity\", \"onlinebackup\", \"deviceprotection\",\n",
        "    \"techsupport\", \"streamingtv\", \"streamingmovies\", \"multiplelines\"\n",
        "]\n",
        "for coln in cols_to_fix:\n",
        "    df[col] = df[col].replace({\"No internet service\": \"No\", \"No phone service\": \"No\"})\n",
        "\n",
        "    df.fillna({coln: df[coln].median() for coln in cols_to_fix}, inplace = True)\n"
      ],
      "metadata": {
        "id": "Kxs1gyuBXbdn"
      },
      "execution_count": null,
      "outputs": []
    },
    {
      "cell_type": "code",
      "source": [
        "print(\"Missing values:\", df[cols_to_fix].isna().sum())\n",
        "\n"
      ],
      "metadata": {
        "colab": {
          "base_uri": "https://localhost:8080/"
        },
        "id": "iOEhjFNnt2oG",
        "outputId": "af35c428-cbd2-49f3-b190-506e1b0521c3"
      },
      "execution_count": null,
      "outputs": [
        {
          "output_type": "stream",
          "name": "stdout",
          "text": [
            "Missing values: onlinesecurity      0\n",
            "onlinebackup        0\n",
            "deviceprotection    0\n",
            "techsupport         0\n",
            "streamingtv         0\n",
            "streamingmovies     0\n",
            "multiplelines       0\n",
            "dtype: int64\n"
          ]
        }
      ]
    },
    {
      "cell_type": "code",
      "source": [
        "def cols_clean(c):\n",
        "     c = c.strip().lower()\n",
        "     c = c.replace(\",\", \"_\").replace(\"-\", \"_\")\n",
        "     c = c.replace(\"(\", \"\").replace(\")\", \"\")\n",
        "     c = c.replace(\"/\", \"_\")\n",
        "     return c\n",
        "\n",
        "df.columns = [cols_clean(c) for c in df.columns]\n"
      ],
      "metadata": {
        "id": "bjrvZtppkfpk"
      },
      "execution_count": null,
      "outputs": []
    },
    {
      "cell_type": "code",
      "source": [
        "#   One-hot encoding for multi-category columns\n",
        "df = pd.get_dummies(df, columns=[\"internetservice\", \"contract\", \"paymentmethod\"], drop_first=True)\n"
      ],
      "metadata": {
        "id": "TnHeNMaoYecr",
        "colab": {
          "base_uri": "https://localhost:8080/",
          "height": 304
        },
        "outputId": "7437c2f3-1cdf-4f80-e4e3-376c8f27b10e"
      },
      "execution_count": null,
      "outputs": [
        {
          "output_type": "error",
          "ename": "KeyError",
          "evalue": "\"None of [Index(['internetservice', 'contract', 'paymentmethod'], dtype='object')] are in the [columns]\"",
          "traceback": [
            "\u001b[0;31m---------------------------------------------------------------------------\u001b[0m",
            "\u001b[0;31mKeyError\u001b[0m                                  Traceback (most recent call last)",
            "\u001b[0;32m/tmp/ipython-input-433267022.py\u001b[0m in \u001b[0;36m<cell line: 0>\u001b[0;34m()\u001b[0m\n\u001b[1;32m      1\u001b[0m \u001b[0;31m#   One-hot encoding for multi-category columns\u001b[0m\u001b[0;34m\u001b[0m\u001b[0;34m\u001b[0m\u001b[0m\n\u001b[0;32m----> 2\u001b[0;31m \u001b[0mdf\u001b[0m \u001b[0;34m=\u001b[0m \u001b[0mpd\u001b[0m\u001b[0;34m.\u001b[0m\u001b[0mget_dummies\u001b[0m\u001b[0;34m(\u001b[0m\u001b[0mdf\u001b[0m\u001b[0;34m,\u001b[0m \u001b[0mcolumns\u001b[0m\u001b[0;34m=\u001b[0m\u001b[0;34m[\u001b[0m\u001b[0;34m\"internetservice\"\u001b[0m\u001b[0;34m,\u001b[0m \u001b[0;34m\"contract\"\u001b[0m\u001b[0;34m,\u001b[0m \u001b[0;34m\"paymentmethod\"\u001b[0m\u001b[0;34m]\u001b[0m\u001b[0;34m,\u001b[0m \u001b[0mdrop_first\u001b[0m\u001b[0;34m=\u001b[0m\u001b[0;32mTrue\u001b[0m\u001b[0;34m)\u001b[0m\u001b[0;34m\u001b[0m\u001b[0;34m\u001b[0m\u001b[0m\n\u001b[0m",
            "\u001b[0;32m/usr/local/lib/python3.12/dist-packages/pandas/core/reshape/encoding.py\u001b[0m in \u001b[0;36mget_dummies\u001b[0;34m(data, prefix, prefix_sep, dummy_na, columns, sparse, drop_first, dtype)\u001b[0m\n\u001b[1;32m    167\u001b[0m             \u001b[0;32mraise\u001b[0m \u001b[0mTypeError\u001b[0m\u001b[0;34m(\u001b[0m\u001b[0;34m\"Input must be a list-like for parameter `columns`\"\u001b[0m\u001b[0;34m)\u001b[0m\u001b[0;34m\u001b[0m\u001b[0;34m\u001b[0m\u001b[0m\n\u001b[1;32m    168\u001b[0m         \u001b[0;32melse\u001b[0m\u001b[0;34m:\u001b[0m\u001b[0;34m\u001b[0m\u001b[0;34m\u001b[0m\u001b[0m\n\u001b[0;32m--> 169\u001b[0;31m             \u001b[0mdata_to_encode\u001b[0m \u001b[0;34m=\u001b[0m \u001b[0mdata\u001b[0m\u001b[0;34m[\u001b[0m\u001b[0mcolumns\u001b[0m\u001b[0;34m]\u001b[0m\u001b[0;34m\u001b[0m\u001b[0;34m\u001b[0m\u001b[0m\n\u001b[0m\u001b[1;32m    170\u001b[0m \u001b[0;34m\u001b[0m\u001b[0m\n\u001b[1;32m    171\u001b[0m         \u001b[0;31m# validate prefixes and separator to avoid silently dropping cols\u001b[0m\u001b[0;34m\u001b[0m\u001b[0;34m\u001b[0m\u001b[0m\n",
            "\u001b[0;32m/usr/local/lib/python3.12/dist-packages/pandas/core/frame.py\u001b[0m in \u001b[0;36m__getitem__\u001b[0;34m(self, key)\u001b[0m\n\u001b[1;32m   4106\u001b[0m             \u001b[0;32mif\u001b[0m \u001b[0mis_iterator\u001b[0m\u001b[0;34m(\u001b[0m\u001b[0mkey\u001b[0m\u001b[0;34m)\u001b[0m\u001b[0;34m:\u001b[0m\u001b[0;34m\u001b[0m\u001b[0;34m\u001b[0m\u001b[0m\n\u001b[1;32m   4107\u001b[0m                 \u001b[0mkey\u001b[0m \u001b[0;34m=\u001b[0m \u001b[0mlist\u001b[0m\u001b[0;34m(\u001b[0m\u001b[0mkey\u001b[0m\u001b[0;34m)\u001b[0m\u001b[0;34m\u001b[0m\u001b[0;34m\u001b[0m\u001b[0m\n\u001b[0;32m-> 4108\u001b[0;31m             \u001b[0mindexer\u001b[0m \u001b[0;34m=\u001b[0m \u001b[0mself\u001b[0m\u001b[0;34m.\u001b[0m\u001b[0mcolumns\u001b[0m\u001b[0;34m.\u001b[0m\u001b[0m_get_indexer_strict\u001b[0m\u001b[0;34m(\u001b[0m\u001b[0mkey\u001b[0m\u001b[0;34m,\u001b[0m \u001b[0;34m\"columns\"\u001b[0m\u001b[0;34m)\u001b[0m\u001b[0;34m[\u001b[0m\u001b[0;36m1\u001b[0m\u001b[0;34m]\u001b[0m\u001b[0;34m\u001b[0m\u001b[0;34m\u001b[0m\u001b[0m\n\u001b[0m\u001b[1;32m   4109\u001b[0m \u001b[0;34m\u001b[0m\u001b[0m\n\u001b[1;32m   4110\u001b[0m         \u001b[0;31m# take() does not accept boolean indexers\u001b[0m\u001b[0;34m\u001b[0m\u001b[0;34m\u001b[0m\u001b[0m\n",
            "\u001b[0;32m/usr/local/lib/python3.12/dist-packages/pandas/core/indexes/base.py\u001b[0m in \u001b[0;36m_get_indexer_strict\u001b[0;34m(self, key, axis_name)\u001b[0m\n\u001b[1;32m   6198\u001b[0m             \u001b[0mkeyarr\u001b[0m\u001b[0;34m,\u001b[0m \u001b[0mindexer\u001b[0m\u001b[0;34m,\u001b[0m \u001b[0mnew_indexer\u001b[0m \u001b[0;34m=\u001b[0m \u001b[0mself\u001b[0m\u001b[0;34m.\u001b[0m\u001b[0m_reindex_non_unique\u001b[0m\u001b[0;34m(\u001b[0m\u001b[0mkeyarr\u001b[0m\u001b[0;34m)\u001b[0m\u001b[0;34m\u001b[0m\u001b[0;34m\u001b[0m\u001b[0m\n\u001b[1;32m   6199\u001b[0m \u001b[0;34m\u001b[0m\u001b[0m\n\u001b[0;32m-> 6200\u001b[0;31m         \u001b[0mself\u001b[0m\u001b[0;34m.\u001b[0m\u001b[0m_raise_if_missing\u001b[0m\u001b[0;34m(\u001b[0m\u001b[0mkeyarr\u001b[0m\u001b[0;34m,\u001b[0m \u001b[0mindexer\u001b[0m\u001b[0;34m,\u001b[0m \u001b[0maxis_name\u001b[0m\u001b[0;34m)\u001b[0m\u001b[0;34m\u001b[0m\u001b[0;34m\u001b[0m\u001b[0m\n\u001b[0m\u001b[1;32m   6201\u001b[0m \u001b[0;34m\u001b[0m\u001b[0m\n\u001b[1;32m   6202\u001b[0m         \u001b[0mkeyarr\u001b[0m \u001b[0;34m=\u001b[0m \u001b[0mself\u001b[0m\u001b[0;34m.\u001b[0m\u001b[0mtake\u001b[0m\u001b[0;34m(\u001b[0m\u001b[0mindexer\u001b[0m\u001b[0;34m)\u001b[0m\u001b[0;34m\u001b[0m\u001b[0;34m\u001b[0m\u001b[0m\n",
            "\u001b[0;32m/usr/local/lib/python3.12/dist-packages/pandas/core/indexes/base.py\u001b[0m in \u001b[0;36m_raise_if_missing\u001b[0;34m(self, key, indexer, axis_name)\u001b[0m\n\u001b[1;32m   6247\u001b[0m         \u001b[0;32mif\u001b[0m \u001b[0mnmissing\u001b[0m\u001b[0;34m:\u001b[0m\u001b[0;34m\u001b[0m\u001b[0;34m\u001b[0m\u001b[0m\n\u001b[1;32m   6248\u001b[0m             \u001b[0;32mif\u001b[0m \u001b[0mnmissing\u001b[0m \u001b[0;34m==\u001b[0m \u001b[0mlen\u001b[0m\u001b[0;34m(\u001b[0m\u001b[0mindexer\u001b[0m\u001b[0;34m)\u001b[0m\u001b[0;34m:\u001b[0m\u001b[0;34m\u001b[0m\u001b[0;34m\u001b[0m\u001b[0m\n\u001b[0;32m-> 6249\u001b[0;31m                 \u001b[0;32mraise\u001b[0m \u001b[0mKeyError\u001b[0m\u001b[0;34m(\u001b[0m\u001b[0;34mf\"None of [{key}] are in the [{axis_name}]\"\u001b[0m\u001b[0;34m)\u001b[0m\u001b[0;34m\u001b[0m\u001b[0;34m\u001b[0m\u001b[0m\n\u001b[0m\u001b[1;32m   6250\u001b[0m \u001b[0;34m\u001b[0m\u001b[0m\n\u001b[1;32m   6251\u001b[0m             \u001b[0mnot_found\u001b[0m \u001b[0;34m=\u001b[0m \u001b[0mlist\u001b[0m\u001b[0;34m(\u001b[0m\u001b[0mensure_index\u001b[0m\u001b[0;34m(\u001b[0m\u001b[0mkey\u001b[0m\u001b[0;34m)\u001b[0m\u001b[0;34m[\u001b[0m\u001b[0mmissing_mask\u001b[0m\u001b[0;34m.\u001b[0m\u001b[0mnonzero\u001b[0m\u001b[0;34m(\u001b[0m\u001b[0;34m)\u001b[0m\u001b[0;34m[\u001b[0m\u001b[0;36m0\u001b[0m\u001b[0;34m]\u001b[0m\u001b[0;34m]\u001b[0m\u001b[0;34m.\u001b[0m\u001b[0munique\u001b[0m\u001b[0;34m(\u001b[0m\u001b[0;34m)\u001b[0m\u001b[0;34m)\u001b[0m\u001b[0;34m\u001b[0m\u001b[0;34m\u001b[0m\u001b[0m\n",
            "\u001b[0;31mKeyError\u001b[0m: \"None of [Index(['internetservice', 'contract', 'paymentmethod'], dtype='object')] are in the [columns]\""
          ]
        }
      ]
    },
    {
      "cell_type": "code",
      "source": [
        "print(df.columns)"
      ],
      "metadata": {
        "id": "n5ZpbL4YkGbK"
      },
      "execution_count": null,
      "outputs": []
    },
    {
      "cell_type": "code",
      "source": [
        "# Convert boolean columns to int (0/1)\n",
        "bool_cols = [\n",
        "    \"internetservice_Fiber optic\", \"internetservice_No\",\n",
        "    \"contract_One year\", \"contract_Two year\",\n",
        "    \"paymentmethod_Credit card (automatic)\",\n",
        "    \"paymentmethod_Electronic check\",\n",
        "    \"paymentmethod_Mailed check\"\n",
        "]\n",
        "\n",
        "for col in bool_cols:\n",
        "    df[col] = df[col].astype(int)\n",
        "\n",
        "\n"
      ],
      "metadata": {
        "id": "0e9akZ2vBT8A"
      },
      "execution_count": null,
      "outputs": []
    },
    {
      "cell_type": "code",
      "source": [
        "#  Outlier Detection (Boxplot + Z-score)\n",
        "numeric_cols = [\"tenure\", \"monthlycharges\", \"totalcharges\"]\n",
        "\n",
        "# Plot boxplots\n",
        "for col in numeric_cols:\n",
        "    plt.figure(figsize=(6,4))\n",
        "    sns.boxplot(x=df[col])\n",
        "    plt.title(f\"Outlier Check - {col}\")\n",
        "    plt.show()"
      ],
      "metadata": {
        "id": "UZA8n2vEmEr4"
      },
      "execution_count": null,
      "outputs": []
    },
    {
      "cell_type": "code",
      "source": [
        "# Z-score method to flag outliers\n",
        "from scipy import stats\n",
        "outliers = {}\n",
        "for col in numeric_cols:\n",
        "    z_scores = np.abs(stats.zscore(df[col]))\n",
        "    outliers[col] = (z_scores > 3).sum()   # count of outliers\n",
        "    print(f\"{col}: {outliers[col]} outliers detected\")"
      ],
      "metadata": {
        "id": "frwr6BBgm8xl"
      },
      "execution_count": null,
      "outputs": []
    },
    {
      "cell_type": "code",
      "source": [
        "#   Final Verification\n",
        "print(\"\\n✅ Data Cleaning Completed!\\n\")\n",
        "print(\"Missing values per column:\\n\", df.isna().sum())\n",
        "print(\"\\nData Types:\\n\", df.dtypes)\n",
        "print(\"\\nDataset Shape:\", df.shape)"
      ],
      "metadata": {
        "id": "1dAOdmHBucCq"
      },
      "execution_count": null,
      "outputs": []
    },
    {
      "cell_type": "code",
      "source": [
        "print(df.columns)\n"
      ],
      "metadata": {
        "id": "SK1AXj5q9AaN"
      },
      "execution_count": null,
      "outputs": []
    },
    {
      "cell_type": "code",
      "source": [
        "# Target balance\n",
        "print(df[\"churn\"].value_counts(normalize=True).rename(\"share\"))\n",
        "\n",
        "# Numeric summary\n",
        "df[[\"tenure\",\"monthlycharges\",\"totalcharges\"]].describe()\n"
      ],
      "metadata": {
        "id": "ZDF-h3d94eXw"
      },
      "execution_count": null,
      "outputs": []
    },
    {
      "cell_type": "code",
      "source": [
        "def clip_iqr(s, k=1.5):\n",
        "    q1, q3 = s.quantile(0.25), s.quantile(0.75)\n",
        "    iqr = q3 - q1\n",
        "    low, high = q1 - k*iqr, q3 + k*iqr\n",
        "    return s.clip(lower=low, upper=high)\n",
        "\n",
        "for c in [\"monthlycharges\",\"totalcharges\"]:\n",
        "    if c in df.columns:\n",
        "        df[c] = clip_iqr(df[c], k=1.5)\n",
        "\n",
        "df[[\"monthlycharges\",\"totalcharges\"]].describe()\n"
      ],
      "metadata": {
        "id": "X_PPYLjz5cfV"
      },
      "execution_count": null,
      "outputs": []
    },
    {
      "cell_type": "code",
      "source": [
        "\n",
        "#  Exploratory Data Analysis (EDA)\n",
        "\n",
        "import seaborn as sns\n",
        "import matplotlib.pyplot as plt\n",
        "\n",
        "#  Target Distribution\n",
        "plt.figure(figsize=(6,4))\n",
        "sns.countplot(x=\"churn\", data=df, palette=\"Set2\")\n",
        "plt.title(\"Churn Distribution (0 = No, 1 = Yes)\")\n",
        "plt.show()\n",
        "\n",
        "# Monthly Charges by Churn\n",
        "plt.figure(figsize=(6,4))\n",
        "sns.kdeplot(data=df, x=\"monthlycharges\", hue=\"churn\", common_norm=False, fill=True)\n",
        "plt.title(\"Monthly Charges by Churn\")\n",
        "plt.show()\n",
        "\n",
        "# Tenure by Churn\n",
        "plt.figure(figsize=(6,4))\n",
        "sns.kdeplot(data=df, x=\"tenure\", hue=\"churn\", common_norm=False, fill=True)\n",
        "plt.title(\"Tenure by Churn\")\n",
        "plt.show()\n",
        "\n",
        "#  Churn by Contract Type\n",
        "df[\"contract_type\"] = df.apply(\n",
        "    lambda row: \"One Year\" if row[\"contract_One year\"]==1\n",
        "                else (\"Two Year\" if row[\"contract_Two year\"]==1\n",
        "                      else \"Month-to-Month\"),\n",
        "    axis=1\n",
        ")\n",
        "\n",
        "plt.figure(figsize=(6,4))\n",
        "sns.barplot(\n",
        "    x=\"contract_type\",\n",
        "    y=\"churn\",\n",
        "    data=df.groupby(\"contract_type\", as_index=False)[\"churn\"].mean(),\n",
        "    palette=\"Blues\"\n",
        ")\n",
        "plt.ylabel(\"Churn Rate\")\n",
        "plt.title(\"Churn Rate by Contract Type\")\n",
        "plt.show()\n",
        "\n",
        "#  Churn by Internet Service\n",
        "df[\"internet_type\"] = df.apply(\n",
        "    lambda row: \"Fiber optic\" if row[\"internetservice_Fiber optic\"]==1\n",
        "                else (\"No Internet\" if row[\"internetservice_No\"]==1\n",
        "                      else \"DSL\"),\n",
        "    axis=1\n",
        ")\n",
        "\n",
        "plt.figure(figsize=(6,4))\n",
        "sns.barplot(\n",
        "    x=\"internet_type\",\n",
        "    y=\"churn\",\n",
        "    data=df.groupby(\"internet_type\", as_index=False)[\"churn\"].mean(),\n",
        "    palette=\"Greens\"\n",
        ")\n",
        "plt.ylabel(\"Churn Rate\")\n",
        "plt.title(\"Churn Rate by Internet Service\")\n",
        "plt.show()\n",
        "\n",
        "# Churn by Payment Method\n",
        "df[\"payment_method\"] = df.apply(\n",
        "    lambda row: \"Electronic Check\" if row[\"paymentmethod_Electronic check\"]==1\n",
        "                else (\"Credit Card (Auto)\" if row[\"paymentmethod_Credit card (automatic)\"]==1\n",
        "                      else (\"Mailed Check\" if row[\"paymentmethod_Mailed check\"]==1\n",
        "                            else \"Other/Bank Auto\")),\n",
        "    axis=1\n",
        ")\n",
        "\n",
        "plt.figure(figsize=(7,4))\n",
        "sns.barplot(\n",
        "    x=\"payment_method\",\n",
        "    y=\"churn\",\n",
        "    data=df.groupby(\"payment_method\", as_index=False)[\"churn\"].mean(),\n",
        "    palette=\"Oranges\"\n",
        ")\n",
        "plt.ylabel(\"Churn Rate\")\n",
        "plt.title(\"Churn Rate by Payment Method\")\n",
        "plt.xticks(rotation=15)\n",
        "plt.show()\n"
      ],
      "metadata": {
        "id": "EXT47BlGAi0d"
      },
      "execution_count": null,
      "outputs": []
    },
    {
      "cell_type": "code",
      "source": [
        "# Tenure groups\n",
        "df[\"tenure_years\"] = (df[\"tenure\"]/12).round(1)\n",
        "df[\"tenure_group\"] = pd.cut(\n",
        "    df[\"tenure\"],\n",
        "    bins=[-0.1, 6, 12, 24, 48, 1000],\n",
        "    labels=[\"0-6\",\"7-12\",\"13-24\",\"25-48\",\"49+\"]\n",
        ")\n",
        "\n",
        "# Has Internet & addon services count\n",
        "df[\"has_internet\"] = (1 - df[\"internetservice_No\"]).astype(int)\n",
        "\n",
        "addon_cols = [\"multiplelines\",\"onlinesecurity\",\"onlinebackup\",\n",
        "              \"deviceprotection\",\"techsupport\",\"streamingtv\",\"streamingmovies\"]\n",
        "df[\"num_addon_services\"] = df[addon_cols].sum(axis=1)\n",
        "\n",
        "#  Price features\n",
        "df[\"charge_tenure_interaction\"] = df[\"monthlycharges\"] * df[\"tenure\"]  # simple CLV proxy\n",
        "df[\"high_charge_flag\"] = (df[\"monthlycharges\"] > df[\"monthlycharges\"].quantile(0.75)).astype(int)\n",
        "\n",
        "# Contract & payment convenience\n",
        "df[\"contract_term\"] = np.select(\n",
        "    condlist=[df[\"contract_Two year\"]==1, df[\"contract_One year\"]==1],\n",
        "    choicelist=[24, 12],\n",
        "    default=1\n",
        ")\n",
        "df[\"auto_pay\"] = df[\"paymentmethod_Credit card (automatic)\"]  # if bank auto isn’t present, keep CC auto as proxy\n",
        "df[\"echeck_flag\"] = df[\"paymentmethod_Electronic check\"]\n",
        "\n",
        "#  Fiber optic risk flag\n",
        "df[\"fiber_flag\"] = df[\"internetservice_Fiber optic\"]\n",
        "\n",
        "#  CLV (simple deterministic)\n",
        "df[\"clv_simple\"] = (df[\"monthlycharges\"] * df[\"tenure\"]).round(2)\n",
        "\n",
        "# Optional: normalized spend (z-score) – handy for models\n",
        "for c in [\"monthlycharges\",\"totalcharges\",\"charge_tenure_interaction\"]:\n",
        "    mu, sigma = df[c].mean(), df[c].std()\n",
        "    df[f\"{c}_z\"] = ((df[c] - mu) / (sigma if sigma>0 else 1)).round(3)\n",
        "\n",
        "# Quick peek\n",
        "df[[\"churn\",\"clv_simple\",\"tenure\",\"monthlycharges\",\"num_addon_services\",\"contract_term\",\"auto_pay\",\"echeck_flag\",\"fiber_flag\"]].head()\n"
      ],
      "metadata": {
        "id": "pb-H_nCKIL2w"
      },
      "execution_count": null,
      "outputs": []
    },
    {
      "cell_type": "code",
      "source": [
        "# Drop customerID since it's just an identifier\n",
        "df = df.drop(columns=[\"customerid\"], errors=\"ignore\")\n",
        "\n",
        "# Encode the helper categorical columns\n",
        "categorical_cols = [\"contract_type\", \"internet_type\", \"payment_method\"]\n",
        "\n",
        "df = pd.get_dummies(df, columns=categorical_cols, drop_first=True)\n",
        "\n",
        "# Double check all features are numeric now\n",
        "print(\"Non-numeric columns left:\", df.select_dtypes(include=['object']).columns)\n"
      ],
      "metadata": {
        "id": "Q1uPpwnG7wOp"
      },
      "execution_count": null,
      "outputs": []
    },
    {
      "cell_type": "code",
      "source": [
        "num_for_corr = [\n",
        "    \"churn\",\"tenure\",\"monthlycharges\",\"totalcharges\",\"num_addon_services\",\n",
        "    \"charge_tenure_interaction\",\"auto_pay\",\"echeck_flag\",\"fiber_flag\",\"has_internet\"\n",
        "]\n",
        "corr = df[num_for_corr].corr()\n",
        "sns.heatmap(corr, annot=True, fmt=\".2f\", cmap=\"coolwarm\")\n",
        "plt.title(\"Correlation (numeric features)\")\n",
        "plt.show()\n"
      ],
      "metadata": {
        "id": "SXroOLniV0NR"
      },
      "execution_count": null,
      "outputs": []
    },
    {
      "cell_type": "code",
      "source": [
        "# Drop customerID\n",
        "if \"customerid\" in df.columns:\n",
        "    df = df.drop(columns=[\"customerid\"])\n",
        "\n",
        "# Double-check for any non-numeric columns left\n",
        "non_numeric_cols = df.select_dtypes(include=['object']).columns\n",
        "print(\"Non-numeric columns left:\", non_numeric_cols)\n"
      ],
      "metadata": {
        "id": "Z6p92U7qh8qp"
      },
      "execution_count": null,
      "outputs": []
    },
    {
      "cell_type": "code",
      "source": [
        "# One-hot encode all object columns at once\n",
        "df = pd.get_dummies(df, drop_first=True)\n",
        "\n",
        "print(\"Remaining object columns:\", df.select_dtypes(include=[\"object\"]).columns)"
      ],
      "metadata": {
        "id": "TpYPdx2A85yn"
      },
      "execution_count": null,
      "outputs": []
    },
    {
      "cell_type": "code",
      "source": [
        "# Separate features (X) and target (y)\n",
        "X = df.drop(\"churn\", axis=1)\n",
        "y = df[\"churn\"]\n",
        "\n",
        "# Train-test split (80-20)\n",
        "from sklearn.model_selection import train_test_split\n",
        "X_train, X_test, y_train, y_test = train_test_split(\n",
        "    X, y, test_size=0.2, random_state=42, stratify=y\n",
        ")\n",
        "\n",
        "print(\"Train shape:\", X_train.shape)\n",
        "print(\"Test shape:\", X_test.shape)\n"
      ],
      "metadata": {
        "id": "Fslhu7UbgkLy"
      },
      "execution_count": null,
      "outputs": []
    },
    {
      "cell_type": "code",
      "source": [
        "# Save final feature list after preprocessing\n",
        "final_features = list(X_train.columns)\n",
        "\n",
        "import joblib\n",
        "joblib.dump(final_features, \"features.pkl\")  # save for later\n"
      ],
      "metadata": {
        "id": "G3qToWFV8wZP"
      },
      "execution_count": null,
      "outputs": []
    },
    {
      "cell_type": "code",
      "source": [
        "#  Import required libraries\n",
        "from sklearn.model_selection import train_test_split\n",
        "from sklearn.preprocessing import StandardScaler\n",
        "from sklearn.linear_model import LogisticRegression\n",
        "from sklearn.metrics import accuracy_score, precision_score, recall_score, f1_score, roc_auc_score, classification_report\n",
        "\n",
        "#  Split into train & test\n",
        "X = df.drop(columns=[\"churn\"])   # drop churn (target) & ID column\n",
        "y = df[\"churn\"]\n",
        "\n",
        "X_train, X_test, y_train, y_test = train_test_split(X, y, test_size=0.2, random_state=42, stratify=y)\n",
        "\n",
        "#  Scale the features\n",
        "scaler = StandardScaler()\n",
        "X_train_scaled = pd.DataFrame(scaler.fit_transform(X_train), columns=X_train.columns)\n",
        "X_test_scaled = pd.DataFrame(scaler.transform(X_test), columns=X_test.columns)\n",
        "\n",
        "# ✅ Save final feature list for deployment\n",
        "final_features = list(X_train_scaled.columns)\n",
        "\n",
        "import joblib\n",
        "joblib.dump(final_features, \"features.pkl\")  # save once, reuse later\n",
        "\n",
        "#  Logistic Regression with more iterations\n",
        "log_reg_bal = LogisticRegression(max_iter=1000, solver=\"lbfgs\", class_weight=\"balanced\")\n",
        "log_reg_bal.fit(X_train_scaled, y_train)\n",
        "\n",
        "y_pred_bal = log_reg_bal.predict(X_test_scaled)\n",
        "print(\"Recall (Balanced):\", recall_score(y_test, y_pred_bal))\n",
        "print(\"F1 (Balanced):\", f1_score(y_test, y_pred_bal))\n",
        "\n",
        "#  Predictions\n",
        "\n",
        "# Baseline Logistic Regression (no balancing)\n",
        "log_reg = LogisticRegression(max_iter=1000, solver=\"lbfgs\")\n",
        "log_reg.fit(X_train_scaled, y_train)\n",
        "\n",
        "y_pred = log_reg.predict(X_test_scaled)\n",
        "y_prob = log_reg.predict_proba(X_test_scaled)[:,1]\n",
        "\n",
        "#  Evaluation metrics\n",
        "print(\"Baseline Logistic Regression\")\n",
        "print(\"Accuracy:\", accuracy_score(y_test, y_pred))\n",
        "print(\"Precision:\", precision_score(y_test, y_pred))\n",
        "print(\"Recall:\", recall_score(y_test, y_pred))\n",
        "print(\"F1 Score:\", f1_score(y_test, y_pred))\n",
        "print(\"ROC-AUC:\", roc_auc_score(y_test, y_prob))\n",
        "\n",
        "print(\"\\nClassification Report:\\n\", classification_report(y_test, y_pred))\n"
      ],
      "metadata": {
        "id": "MULgQrD4JU_Y"
      },
      "execution_count": null,
      "outputs": []
    },
    {
      "cell_type": "code",
      "source": [
        "from sklearn.ensemble import RandomForestClassifier\n",
        "from sklearn.metrics import classification_report, roc_auc_score\n",
        "\n",
        "# Random Forest model\n",
        "rf = RandomForestClassifier(\n",
        "    n_estimators=200,       # number of trees\n",
        "    max_depth=10,           # depth of each tree (control overfitting)\n",
        "    class_weight=\"balanced\",# handle churn imbalance\n",
        "    random_state=42\n",
        ")\n",
        "\n",
        "rf.fit(X_train, y_train)\n",
        "\n",
        "# Predictions\n",
        "y_pred_rf = rf.predict(X_test)\n",
        "y_prob_rf = rf.predict_proba(X_test)[:,1]\n",
        "\n",
        "# Evaluation\n",
        "print(\"Random Forest Metrics\")\n",
        "print(\"Accuracy:\", accuracy_score(y_test, y_pred_rf))\n",
        "print(\"Precision:\", precision_score(y_test, y_pred_rf))\n",
        "print(\"Recall:\", recall_score(y_test, y_pred_rf))\n",
        "print(\"F1 Score:\", f1_score(y_test, y_pred_rf))\n",
        "print(\"ROC-AUC:\", roc_auc_score(y_test, y_prob_rf))\n",
        "print(\"\\nClassification Report:\\n\", classification_report(y_test, y_pred_rf))\n"
      ],
      "metadata": {
        "id": "N5b8WgZ5N6Gj"
      },
      "execution_count": null,
      "outputs": []
    },
    {
      "cell_type": "code",
      "source": [
        "from xgboost import XGBClassifier, plot_importance\n",
        "import matplotlib.pyplot as plt\n",
        "\n",
        "# Train the model\n",
        "xgb_model = XGBClassifier(\n",
        "    n_estimators=300,\n",
        "    max_depth=6,\n",
        "    learning_rate=0.05,\n",
        "    scale_pos_weight=(len(y_train)-sum(y_train))/sum(y_train), # balance churn class\n",
        "    random_state=42,\n",
        "    use_label_encoder=False,\n",
        "    eval_metric=\"logloss\"\n",
        ")\n",
        "\n",
        "xgb_model.fit(X_train, y_train)\n",
        "\n",
        "# Predictions\n",
        "y_pred_xgb = xgb_model.predict(X_test)\n",
        "y_prob_xgb = xgb_model.predict_proba(X_test)[:,1]\n",
        "\n",
        "# Evaluation\n",
        "print(\"XGBoost Metrics\")\n",
        "print(\"Accuracy:\", accuracy_score(y_test, y_pred_xgb))\n",
        "print(\"Precision:\", precision_score(y_test, y_pred_xgb))\n",
        "print(\"Recall:\", recall_score(y_test, y_pred_xgb))\n",
        "print(\"F1 Score:\", f1_score(y_test, y_pred_xgb))\n",
        "print(\"ROC-AUC:\", roc_auc_score(y_test, y_prob_xgb))\n",
        "print(\"\\nClassification Report:\\n\", classification_report(y_test, y_pred_xgb))\n",
        "\n",
        "# Feature importance plot\n",
        "plot_importance(xgb_model, importance_type=\"weight\", max_num_features=15)\n",
        "plt.title(\"Top 15 Features Influencing Churn\")\n",
        "plt.show()\n"
      ],
      "metadata": {
        "id": "c7kcuXNbOBuW"
      },
      "execution_count": null,
      "outputs": []
    },
    {
      "cell_type": "code",
      "source": [
        "# Save trained XGBoost features\n",
        "\n",
        "joblib.dump(final_features, \"features.pkl\")\n"
      ],
      "metadata": {
        "id": "_L510hQx-xy4"
      },
      "execution_count": null,
      "outputs": []
    },
    {
      "cell_type": "code",
      "source": [
        "import shap\n",
        "\n",
        "# Use your trained model\n",
        "explainer = shap.TreeExplainer(xgb_model)   # <-- pass the trained model\n",
        "shap_values = explainer.shap_values(X_test)\n",
        "\n",
        "# Global feature importance\n",
        "shap.summary_plot(shap_values, X_test, plot_type=\"bar\")\n",
        "\n",
        "# Detailed distribution\n",
        "shap.summary_plot(shap_values, X_test)\n"
      ],
      "metadata": {
        "id": "_K0VDgODWDNc"
      },
      "execution_count": null,
      "outputs": []
    },
    {
      "cell_type": "code",
      "source": [
        "import pandas as pd\n",
        "from sklearn.metrics import accuracy_score, precision_score, recall_score, f1_score, roc_auc_score\n",
        "\n",
        "# Function to evaluate model\n",
        "def evaluate_model(name, model, X_test, y_test):\n",
        "    y_pred = model.predict(X_test)\n",
        "    y_prob = model.predict_proba(X_test)[:,1]\n",
        "\n",
        "    return {\n",
        "        \"Model\": name,\n",
        "        \"Accuracy\": accuracy_score(y_test, y_pred),\n",
        "        \"Precision\": precision_score(y_test, y_pred),\n",
        "        \"Recall\": recall_score(y_test, y_pred),\n",
        "        \"F1 Score\": f1_score(y_test, y_pred),\n",
        "        \"ROC-AUC\": roc_auc_score(y_test, y_prob)\n",
        "    }\n",
        "\n",
        "# Collect results\n",
        "results = []\n",
        "\n",
        "# Logistic Regression\n",
        "results.append(evaluate_model(\"Logistic Regression\", log_reg, X_test, y_test))\n",
        "\n",
        "# Random Forest\n",
        "results.append(evaluate_model(\"Random Forest\", rf, X_test, y_test))\n",
        "\n",
        "# XGBoost\n",
        "results.append(evaluate_model(\"XGBoost\", xgb_model, X_test, y_test))\n",
        "\n",
        "# Convert to DataFrame for comparison\n",
        "results_df = pd.DataFrame(results)\n",
        "print(results_df)\n"
      ],
      "metadata": {
        "id": "FmX1bpd5Yu6v"
      },
      "execution_count": null,
      "outputs": []
    },
    {
      "cell_type": "code",
      "source": [
        "import shap\n",
        "import matplotlib.pyplot as plt\n",
        "\n",
        "# Create SHAP explainer for XGBoost\n",
        "explainer = shap.TreeExplainer(xgb_model)\n",
        "\n",
        "#  Calculate SHAP values for test set\n",
        "shap_values = explainer.shap_values(X_test)\n",
        "\n",
        "#  Global Feature Importance (bar plot)\n",
        "shap.summary_plot(shap_values, X_test, plot_type=\"bar\")\n",
        "\n",
        "#  Global Feature Importance (detailed distribution)\n",
        "shap.summary_plot(shap_values, X_test)\n",
        "\n",
        "#  Individual Prediction Explanation (pick 1 sample customer)\n",
        "sample_idx = 5   # you can change to any row index from X_test\n",
        "shap.force_plot(\n",
        "    explainer.expected_value,\n",
        "    shap_values[sample_idx,:],\n",
        "    X_test.iloc[sample_idx,:],\n",
        "    matplotlib=True\n",
        ")\n"
      ],
      "metadata": {
        "id": "VnE-sjMHYzZ8"
      },
      "execution_count": null,
      "outputs": []
    },
    {
      "cell_type": "code",
      "source": [
        "joblib.dump(xgb_model, \" churn_xgb_model.pkl\")\n",
        "joblib.dump(scaler, \"scaler.pkl\")"
      ],
      "metadata": {
        "id": "vDFElDyXArc5"
      },
      "execution_count": null,
      "outputs": []
    },
    {
      "cell_type": "code",
      "source": [
        "joblib.dump(xgb_model, \"churn_xgb_model.pkl\")"
      ],
      "metadata": {
        "id": "HpDZwCMD6kiW"
      },
      "execution_count": null,
      "outputs": []
    },
    {
      "cell_type": "code",
      "source": [
        "import pandas as pd\n",
        "import joblib\n",
        "\n",
        "# Load objects\n",
        "scaler = joblib.load(\"scaler.pkl\")\n",
        "xgb_model = joblib.load(\"churn_xgb_model.pkl\")\n",
        "final_features = joblib.load(\"features.pkl\")\n",
        "\n",
        "def predict_churn(new_customer, scaler, model, features):\n",
        "    \"\"\"\n",
        "    Predict churn for a new customer\n",
        "    new_customer: dict with customer info\n",
        "    \"\"\"\n",
        "    # Convert dict → DataFrame\n",
        "    if isinstance(new_customer, dict):\n",
        "        new_customer = pd.DataFrame([new_customer])\n",
        "\n",
        "    # Add missing features as 0 (important for One-hot encoded columns)\n",
        "    for col in features:\n",
        "        if col not in new_customer.columns:\n",
        "            new_customer[col] = 0\n",
        "\n",
        "    # Reorder columns to match training\n",
        "    new_customer = new_customer[features]\n",
        "\n",
        "    # Scale\n",
        "    new_customer_scaled = pd.DataFrame(\n",
        "        scaler.transform(new_customer),\n",
        "        columns=new_customer.columns\n",
        "    )\n",
        "\n",
        "    # Predict\n",
        "    churn_prob = model.predict_proba(new_customer_scaled)[:, 1][0]\n",
        "    churn_label = \"Yes\" if churn_prob >= 0.5 else \"No\"\n",
        "\n",
        "    return {\n",
        "        \"Churn Probability (%)\": round(churn_prob * 100, 2),\n",
        "        \"Churn Risk\": churn_label\n",
        "    }\n"
      ],
      "metadata": {
        "id": "k80-N0Zfl1xH"
      },
      "execution_count": null,
      "outputs": []
    },
    {
      "cell_type": "code",
      "source": [
        "sample_customer = {\n",
        "    \"tenure\": 5,\n",
        "    \"monthlycharges\": 70,\n",
        "    \"totalcharges\": 350,\n",
        "    \"internetservice_Fiber optic\": 1,\n",
        "    \"internetservice_No\": 0,\n",
        "    \"paymentmethod_Electronic check\": 1,\n",
        "    \"paperlessbilling\": 1,\n",
        "    \"onlinesecurity\": 0,\n",
        "    \"techsupport\": 0,\n",
        "    \"streamingmovies\": 1,\n",
        "    \"streamingtv\": 1,\n",
        "    \"onlinebackup\": 0,\n",
        "    \"seniorcitizen\": 0,\n",
        "    \"contract_One year\": 0,\n",
        "    \"contract_Two year\": 0\n",
        "}\n",
        "\n",
        "result = predict_churn(sample_customer, scaler, xgb_model, final_features)\n",
        "print(result)\n"
      ],
      "metadata": {
        "id": "j4IKVI86qD55"
      },
      "execution_count": null,
      "outputs": []
    },
    {
      "cell_type": "code",
      "source": [
        "%%writefile app.py\n",
        "import streamlit as st\n",
        "import numpy as np\n",
        "import pandas as pd\n",
        "import joblib\n",
        "\n",
        "\n",
        "# Load saved model & scaler\n",
        "model = joblib.load(\"churn_xgb_model.pkl\")\n",
        "scaler = joblib.load(\"scaler.pkl\")\n",
        "features = joblib.load(\"features.pkl\")   # to align columns\n",
        "\n",
        "# Prediction function\n",
        "def predict_churn(new_customer):\n",
        "    if isinstance(new_customer, dict):\n",
        "        new_customer = pd.DataFrame([new_customer])\n",
        "\n",
        "    # Add missing columns\n",
        "    for col in features:\n",
        "        if col not in new_customer.columns:\n",
        "            new_customer[col] = 0\n",
        "\n",
        "    # Ensure correct column order\n",
        "    new_customer = new_customer[features]\n",
        "\n",
        "    # Scale\n",
        "    new_customer_scaled = pd.DataFrame(\n",
        "        scaler.transform(new_customer),\n",
        "        columns=new_customer.columns\n",
        "    )\n",
        "\n",
        "    # Predict\n",
        "    churn_prob = model.predict_proba(new_customer_scaled)[:, 1][0]\n",
        "    churn_label = \"Yes\" if churn_prob >= 0.5 else \"No\"\n",
        "\n",
        "    return churn_prob, churn_label\n",
        "\n",
        "\n",
        "# ---------------- UI ----------------\n",
        "st.title(\"📊 Customer Churn Prediction App\")\n",
        "\n",
        "st.sidebar.header(\"Customer Information\")\n",
        "\n",
        "tenure = st.sidebar.number_input(\"Tenure (months)\", min_value=0, max_value=72, value=12)\n",
        "monthlycharges = st.sidebar.number_input(\"Monthly Charges\", min_value=0, max_value=200, value=70)\n",
        "totalcharges = st.sidebar.number_input(\"Total Charges\", min_value=0, max_value=10000, value=800)\n",
        "\n",
        "contract = st.sidebar.selectbox(\"Contract Type\", [\"Month-to-Month\", \"One Year\", \"Two Year\"])\n",
        "internet = st.sidebar.selectbox(\"Internet Service\", [\"DSL\", \"Fiber optic\", \"No Internet\"])\n",
        "payment = st.sidebar.selectbox(\"Payment Method\", [\"Electronic Check\", \"Mailed Check\", \"Credit Card (Auto)\", \"Bank Transfer (Auto)\"])\n",
        "\n",
        "# Convert to features\n",
        "sample_customer = {\n",
        "    \"tenure\": tenure,\n",
        "    \"monthlycharges\": monthlycharges,\n",
        "    \"totalcharges\": totalcharges,\n",
        "    \"contract_One year\": 1 if contract==\"One Year\" else 0,\n",
        "    \"contract_Two year\": 1 if contract==\"Two Year\" else 0,\n",
        "    \"internetservice_Fiber optic\": 1 if internet==\"Fiber optic\" else 0,\n",
        "    \"internetservice_No\": 1 if internet==\"No Internet\" else 0,\n",
        "    \"paymentmethod_Electronic check\": 1 if payment==\"Electronic Check\" else 0,\n",
        "    \"paymentmethod_Mailed check\": 1 if payment==\"Mailed Check\" else 0,\n",
        "    \"paperlessbilling\": 1 if payment==\"Electronic Check\" else 0,  # assumption\n",
        "    \"onlinesecurity\": 0,\n",
        "    \"techsupport\": 0,\n",
        "    \"streamingmovies\": 0,\n",
        "    \"streamingtv\": 0,\n",
        "    \"onlinebackup\": 0,\n",
        "    \"seniorcitizen\": 0\n",
        "}\n",
        "\n",
        "if st.sidebar.button(\"Predict Churn\"):\n",
        "    prob, label = predict_churn(sample_customer)\n",
        "    st.subheader(f\"Churn Risk: **{label}**\")\n",
        "    st.subheader(f\"Probability: {prob*100:.2f}%\")\n"
      ],
      "metadata": {
        "id": "6Gh4CW6KIzW6"
      },
      "execution_count": null,
      "outputs": []
    },
    {
      "cell_type": "code",
      "source": [
        "!pip install streamlit pyngrok\n",
        "\n"
      ],
      "metadata": {
        "id": "bxJAZPDihBxk"
      },
      "execution_count": null,
      "outputs": []
    },
    {
      "cell_type": "code",
      "source": [
        "!ngrok authtoken 3006WebKuiho1gcp1Jiz8CxiIqV_Gsvz8WjAF1bCHev65Njo"
      ],
      "metadata": {
        "id": "RBCqUqH2hcSQ"
      },
      "execution_count": null,
      "outputs": []
    },
    {
      "cell_type": "code",
      "source": [
        "import os\n",
        "import threading\n",
        "\n",
        "def run_streamlit():\n",
        "    os.system('streamlit run app.py --server.port 8501')\n",
        "\n",
        "# Start the Streamlit server in a new thread\n",
        "thread = threading.Thread(target=run_streamlit)\n",
        "thread.start()\n"
      ],
      "metadata": {
        "id": "kiFEO9YDlLHD"
      },
      "execution_count": null,
      "outputs": []
    },
    {
      "cell_type": "code",
      "source": [
        "from pyngrok import ngrok\n",
        "import time\n",
        "\n",
        "# Wait a few seconds to ensure Streamlit starts\n",
        "time.sleep(5)\n",
        "\n",
        "# Create a tunnel to the streamlit port 8501\n",
        "public_url = ngrok.connect(8501)\n",
        "\n",
        "print(\"Your Streamlit app is live here:\", public_url)"
      ],
      "metadata": {
        "id": "tq5XrQQKlL4q"
      },
      "execution_count": null,
      "outputs": []
    },
    {
      "cell_type": "code",
      "source": [
        "# Save cleaned dataset\n",
        "df.to_csv(\"cleaned_customers.csv\", index=False)\n"
      ],
      "metadata": {
        "id": "UUSGOSQ26_gz"
      },
      "execution_count": null,
      "outputs": []
    },
    {
      "cell_type": "code",
      "source": [
        "# ---------------------------\n",
        "# Step 2: Export Scored Dataset\n",
        "# ---------------------------\n",
        "\n",
        "# Load the latest objects (if not already in memory)\n",
        "scaler = joblib.load(\"scaler.pkl\")\n",
        "xgb_model = joblib.load(\"churn_xgb_model.pkl\")\n",
        "final_features = joblib.load(\"features.pkl\")\n",
        "\n",
        "# Align features\n",
        "X_full_scaled = scaler.transform(df[final_features])\n",
        "\n",
        "# Predictions\n",
        "df[\"pred_churn_prob\"] = xgb_model.predict_proba(X_full_scaled)[:, 1]\n",
        "df[\"pred_churn_label\"] = xgb_model.predict(X_full_scaled)\n",
        "\n",
        "# Save final scored dataset for Power BI\n",
        "df.to_csv(\"scored_customers.csv\", index=False)\n",
        "print(\"✅ Scored dataset saved as scored_customers.csv\")\n",
        "\n"
      ],
      "metadata": {
        "id": "lADKtz-F7AVg"
      },
      "execution_count": null,
      "outputs": []
    }
  ]
}